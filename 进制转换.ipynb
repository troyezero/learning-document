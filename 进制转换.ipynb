{
 "cells": [
  {
   "cell_type": "code",
   "execution_count": 57,
   "metadata": {},
   "outputs": [
    {
     "name": "stdout",
     "output_type": "stream",
     "text": [
      "输入一个数字:20\n",
      "转换为二进制： 0b10100\n",
      "转换为八进制： 0o24\n",
      "转换为十六进制： 0x14\n"
     ]
    }
   ],
   "source": [
    "a = int(input(\"输入一个数字:\"))\n",
    "print(\"转换为二进制：\",bin(a))\n",
    "print(\"转换为八进制：\",oct(a))\n",
    "print(\"转换为十六进制：\",hex(a))"
   ]
  },
  {
   "cell_type": "code",
   "execution_count": 52,
   "metadata": {},
   "outputs": [
    {
     "name": "stdout",
     "output_type": "stream",
     "text": [
      "输入一个数字:6\n",
      "转换为二进制：\n",
      "110 "
     ]
    }
   ],
   "source": [
    "a = int(input(\"输入一个数字:\"))\n",
    "print(\"转换为二进制：\")\n",
    "d=[\" \"]\n",
    "while a>=1:\n",
    "    b=int(a/2 )\n",
    "    c=int(a%2 )\n",
    "    d.append(c)\n",
    "    a=b\n",
    "for x in d[::-1]:    \n",
    "    print(x,end=\"\")"
   ]
  },
  {
   "cell_type": "code",
   "execution_count": 53,
   "metadata": {},
   "outputs": [
    {
     "name": "stdout",
     "output_type": "stream",
     "text": [
      "输入一个数字:10\n",
      "转换为八进制：\n",
      "12 "
     ]
    }
   ],
   "source": [
    "a = int(input(\"输入一个数字:\"))\n",
    "print(\"转换为八进制：\")\n",
    "d=[\" \"]\n",
    "while a>=1:\n",
    "    b=int(a/8 )\n",
    "    c=int(a%8 )\n",
    "    d.append(c)\n",
    "    a=b\n",
    "for x in d[::-1]:    \n",
    "    print(x,end=\"\")"
   ]
  },
  {
   "cell_type": "code",
   "execution_count": 56,
   "metadata": {},
   "outputs": [
    {
     "name": "stdout",
     "output_type": "stream",
     "text": [
      "输入一个数字:20\n",
      "转换为十六进制：\n",
      "14 "
     ]
    }
   ],
   "source": [
    "a = int(input(\"输入一个数字:\"))\n",
    "print(\"转换为十六进制：\")\n",
    "d=[\" \"]\n",
    "while a>=1:\n",
    "    b=int(a/16 )\n",
    "    c=int(a%16 )\n",
    "    d.append(c)\n",
    "    a=b\n",
    "for x in d[::-1]:    \n",
    "    print(x,end=\"\")"
   ]
  }
 ],
 "metadata": {
  "kernelspec": {
   "display_name": "Python 3",
   "language": "python",
   "name": "python3"
  },
  "language_info": {
   "codemirror_mode": {
    "name": "ipython",
    "version": 3
   },
   "file_extension": ".py",
   "mimetype": "text/x-python",
   "name": "python",
   "nbconvert_exporter": "python",
   "pygments_lexer": "ipython3",
   "version": "3.7.0"
  }
 },
 "nbformat": 4,
 "nbformat_minor": 2
}
