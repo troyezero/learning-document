{
 "cells": [
  {
   "cell_type": "code",
   "execution_count": 6,
   "metadata": {},
   "outputs": [
    {
     "name": "stdout",
     "output_type": "stream",
     "text": [
      "《一年永恒》开始下载：\n",
      "  已下载:0.004%\r"
     ]
    },
    {
     "ename": "IndexError",
     "evalue": "list index out of range",
     "output_type": "error",
     "traceback": [
      "\u001b[1;31m---------------------------------------------------------------------------\u001b[0m",
      "\u001b[1;31mIndexError\u001b[0m                                Traceback (most recent call last)",
      "\u001b[1;32m<ipython-input-6-ee070ceb30fe>\u001b[0m in \u001b[0;36m<module>\u001b[1;34m()\u001b[0m\n\u001b[0;32m     82\u001b[0m     \u001b[0mprint\u001b[0m\u001b[1;33m(\u001b[0m\u001b[1;34m'《一年永恒》开始下载：'\u001b[0m\u001b[1;33m)\u001b[0m\u001b[1;33m\u001b[0m\u001b[0m\n\u001b[0;32m     83\u001b[0m     \u001b[1;32mfor\u001b[0m \u001b[0mi\u001b[0m \u001b[1;32min\u001b[0m \u001b[0mrange\u001b[0m\u001b[1;33m(\u001b[0m\u001b[0mdl\u001b[0m\u001b[1;33m.\u001b[0m\u001b[0mnums\u001b[0m\u001b[1;33m)\u001b[0m\u001b[1;33m:\u001b[0m\u001b[1;33m\u001b[0m\u001b[0m\n\u001b[1;32m---> 84\u001b[1;33m         \u001b[0mdl\u001b[0m\u001b[1;33m.\u001b[0m\u001b[0mwriter\u001b[0m\u001b[1;33m(\u001b[0m\u001b[0mdl\u001b[0m\u001b[1;33m.\u001b[0m\u001b[0mnames\u001b[0m\u001b[1;33m[\u001b[0m\u001b[0mi\u001b[0m\u001b[1;33m]\u001b[0m\u001b[1;33m,\u001b[0m \u001b[1;34m'一念永恒.txt'\u001b[0m\u001b[1;33m,\u001b[0m \u001b[0mdl\u001b[0m\u001b[1;33m.\u001b[0m\u001b[0mget_contents\u001b[0m\u001b[1;33m(\u001b[0m\u001b[0mdl\u001b[0m\u001b[1;33m.\u001b[0m\u001b[0murls\u001b[0m\u001b[1;33m[\u001b[0m\u001b[0mi\u001b[0m\u001b[1;33m]\u001b[0m\u001b[1;33m)\u001b[0m\u001b[1;33m)\u001b[0m\u001b[1;33m\u001b[0m\u001b[0m\n\u001b[0m\u001b[0;32m     85\u001b[0m         \u001b[0msys\u001b[0m\u001b[1;33m.\u001b[0m\u001b[0mstdout\u001b[0m\u001b[1;33m.\u001b[0m\u001b[0mwrite\u001b[0m\u001b[1;33m(\u001b[0m\u001b[1;34m\"  已下载:%.3f%%\"\u001b[0m \u001b[1;33m%\u001b[0m  \u001b[0mfloat\u001b[0m\u001b[1;33m(\u001b[0m\u001b[0mi\u001b[0m\u001b[1;33m/\u001b[0m\u001b[0mdl\u001b[0m\u001b[1;33m.\u001b[0m\u001b[0mnums\u001b[0m\u001b[1;33m)\u001b[0m \u001b[1;33m+\u001b[0m \u001b[1;34m'\\r'\u001b[0m\u001b[1;33m)\u001b[0m\u001b[1;33m\u001b[0m\u001b[0m\n\u001b[0;32m     86\u001b[0m         \u001b[0msys\u001b[0m\u001b[1;33m.\u001b[0m\u001b[0mstdout\u001b[0m\u001b[1;33m.\u001b[0m\u001b[0mflush\u001b[0m\u001b[1;33m(\u001b[0m\u001b[1;33m)\u001b[0m\u001b[1;33m\u001b[0m\u001b[0m\n",
      "\u001b[1;32m<ipython-input-6-ee070ceb30fe>\u001b[0m in \u001b[0;36mget_contents\u001b[1;34m(self, target)\u001b[0m\n\u001b[0;32m     56\u001b[0m         \u001b[0mbf\u001b[0m \u001b[1;33m=\u001b[0m \u001b[0mBeautifulSoup\u001b[0m\u001b[1;33m(\u001b[0m\u001b[0mhtml\u001b[0m\u001b[1;33m)\u001b[0m\u001b[1;33m\u001b[0m\u001b[0m\n\u001b[0;32m     57\u001b[0m         \u001b[0mtexts\u001b[0m \u001b[1;33m=\u001b[0m \u001b[0mbf\u001b[0m\u001b[1;33m.\u001b[0m\u001b[0mfind_all\u001b[0m\u001b[1;33m(\u001b[0m\u001b[1;34m'div'\u001b[0m\u001b[1;33m,\u001b[0m \u001b[0mclass_\u001b[0m \u001b[1;33m=\u001b[0m \u001b[1;34m'showtxt'\u001b[0m\u001b[1;33m)\u001b[0m\u001b[1;33m\u001b[0m\u001b[0m\n\u001b[1;32m---> 58\u001b[1;33m         \u001b[0mtexts\u001b[0m \u001b[1;33m=\u001b[0m \u001b[0mtexts\u001b[0m\u001b[1;33m[\u001b[0m\u001b[1;36m0\u001b[0m\u001b[1;33m]\u001b[0m\u001b[1;33m.\u001b[0m\u001b[0mtext\u001b[0m\u001b[1;33m.\u001b[0m\u001b[0mreplace\u001b[0m\u001b[1;33m(\u001b[0m\u001b[1;34m'\\xa0'\u001b[0m\u001b[1;33m*\u001b[0m\u001b[1;36m8\u001b[0m\u001b[1;33m,\u001b[0m\u001b[1;34m'\\n\\n'\u001b[0m\u001b[1;33m)\u001b[0m\u001b[1;33m\u001b[0m\u001b[0m\n\u001b[0m\u001b[0;32m     59\u001b[0m         \u001b[1;32mreturn\u001b[0m \u001b[0mtexts\u001b[0m\u001b[1;33m\u001b[0m\u001b[0m\n\u001b[0;32m     60\u001b[0m \u001b[1;33m\u001b[0m\u001b[0m\n",
      "\u001b[1;31mIndexError\u001b[0m: list index out of range"
     ]
    }
   ],
   "source": [
    "    # -*- coding:UTF-8 -*-\n",
    "    from bs4 import BeautifulSoup\n",
    "    import requests, sys\n",
    "     \n",
    "    \"\"\"\n",
    "    类说明:下载《笔趣看》网小说《一念永恒》\n",
    "    Parameters:\n",
    "        无\n",
    "    Returns:\n",
    "        无\n",
    "    Modify:\n",
    "        2017-09-13\n",
    "    \"\"\"\n",
    "    class downloader(object):\n",
    "     \n",
    "        def __init__(self):\n",
    "            self.server = 'http://www.biqukan.com/'\n",
    "            self.target = 'http://www.biqukan.com/1_1094/'\n",
    "            self.names = []            #存放章节名\n",
    "            self.urls = []            #存放章节链接\n",
    "            self.nums = 0            #章节数\n",
    "     \n",
    "        \"\"\"\n",
    "        函数说明:获取下载链接\n",
    "        Parameters:\n",
    "            无\n",
    "        Returns:\n",
    "            无\n",
    "        Modify:\n",
    "            2017-09-13\n",
    "        \"\"\"\n",
    "        def get_download_url(self):\n",
    "            req = requests.get(url = self.target)\n",
    "            html = req.text\n",
    "            div_bf = BeautifulSoup(html)\n",
    "            div = div_bf.find_all('div', class_ = 'listmain')\n",
    "            a_bf = BeautifulSoup(str(div[0]))\n",
    "            a = a_bf.find_all('a')\n",
    "            self.nums = len(a[15:])                                #剔除不必要的章节，并统计章节数\n",
    "            for each in a[15:]:\n",
    "                self.names.append(each.string)\n",
    "                self.urls.append(self.server + each.get('href'))\n",
    "     \n",
    "        \"\"\"\n",
    "        函数说明:获取章节内容\n",
    "        Parameters:\n",
    "            target - 下载连接(string)\n",
    "        Returns:\n",
    "            texts - 章节内容(string)\n",
    "        Modify:\n",
    "            2017-09-13\n",
    "        \"\"\"\n",
    "        def get_contents(self, target):\n",
    "            req = requests.get(url = target)\n",
    "            html = req.text\n",
    "            bf = BeautifulSoup(html)\n",
    "            texts = bf.find_all('div', class_ = 'showtxt')\n",
    "            texts = texts[0].text.replace('\\xa0'*8,'\\n\\n')\n",
    "            return texts\n",
    "     \n",
    "        \"\"\"\n",
    "        函数说明:将爬取的文章内容写入文件\n",
    "        Parameters:\n",
    "            name - 章节名称(string)\n",
    "            path - 当前路径下,小说保存名称(string)\n",
    "            text - 章节内容(string)\n",
    "        Returns:\n",
    "            无\n",
    "        Modify:\n",
    "            2017-09-13\n",
    "        \"\"\"\n",
    "        def writer(self, name, path, text):\n",
    "            write_flag = True\n",
    "            with open(path, 'a', encoding='utf-8') as f:\n",
    "                f.write(name + '\\n')\n",
    "                f.writelines(text)\n",
    "                f.write('\\n\\n')\n",
    "     \n",
    "    if __name__ == \"__main__\":\n",
    "        dl = downloader()\n",
    "        dl.get_download_url()\n",
    "        print('《一年永恒》开始下载：')\n",
    "        for i in range(dl.nums):\n",
    "            dl.writer(dl.names[i], '一念永恒.txt', dl.get_contents(dl.urls[i]))\n",
    "            sys.stdout.write(\"  已下载:%.3f%%\" %  float(i/dl.nums) + '\\r')\n",
    "            sys.stdout.flush()\n",
    "        print('《一年永恒》下载完成')"
   ]
  },
  {
   "cell_type": "code",
   "execution_count": null,
   "metadata": {},
   "outputs": [],
   "source": []
  },
  {
   "cell_type": "code",
   "execution_count": null,
   "metadata": {},
   "outputs": [],
   "source": []
  },
  {
   "cell_type": "code",
   "execution_count": null,
   "metadata": {},
   "outputs": [],
   "source": []
  }
 ],
 "metadata": {
  "kernelspec": {
   "display_name": "Python 3",
   "language": "python",
   "name": "python3"
  },
  "language_info": {
   "codemirror_mode": {
    "name": "ipython",
    "version": 3
   },
   "file_extension": ".py",
   "mimetype": "text/x-python",
   "name": "python",
   "nbconvert_exporter": "python",
   "pygments_lexer": "ipython3",
   "version": "3.7.0"
  }
 },
 "nbformat": 4,
 "nbformat_minor": 2
}
