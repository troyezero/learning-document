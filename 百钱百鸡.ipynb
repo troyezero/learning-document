{
 "cells": [
  {
   "cell_type": "code",
   "execution_count": 19,
   "metadata": {},
   "outputs": [
    {
     "name": "stdout",
     "output_type": "stream",
     "text": [
      "公鸡= 0 母鸡= 25 小鸡= 75\n",
      "公鸡= 4 母鸡= 18 小鸡= 78\n",
      "公鸡= 8 母鸡= 11 小鸡= 81\n",
      "公鸡= 12 母鸡= 4 小鸡= 84\n"
     ]
    }
   ],
   "source": [
    "a=1/3\n",
    "for x in range(0,20):\n",
    "    for y in range(0,33):\n",
    "        z=100-x-y\n",
    "        if ((5*x+3*y+a*z==100)and(z%3==0)):\n",
    "            print (\"公鸡=\",x,\"母鸡=\",y,\"小鸡=\",z)\n",
    " "
   ]
  },
  {
   "cell_type": "code",
   "execution_count": null,
   "metadata": {},
   "outputs": [],
   "source": []
  },
  {
   "cell_type": "code",
   "execution_count": null,
   "metadata": {},
   "outputs": [],
   "source": []
  },
  {
   "cell_type": "code",
   "execution_count": null,
   "metadata": {},
   "outputs": [],
   "source": []
  }
 ],
 "metadata": {
  "kernelspec": {
   "display_name": "Python 3",
   "language": "python",
   "name": "python3"
  },
  "language_info": {
   "codemirror_mode": {
    "name": "ipython",
    "version": 3
   },
   "file_extension": ".py",
   "mimetype": "text/x-python",
   "name": "python",
   "nbconvert_exporter": "python",
   "pygments_lexer": "ipython3",
   "version": "3.7.0"
  }
 },
 "nbformat": 4,
 "nbformat_minor": 2
}
