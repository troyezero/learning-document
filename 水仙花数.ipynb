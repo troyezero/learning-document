{
 "cells": [
  {
   "cell_type": "code",
   "execution_count": 32,
   "metadata": {},
   "outputs": [
    {
     "name": "stdout",
     "output_type": "stream",
     "text": [
      "153\n",
      "370\n",
      "371\n",
      "407\n"
     ]
    }
   ],
   "source": [
    "\n",
    "n=list(range(100,1000))\n",
    "x=100\n",
    "for x in n:\n",
    "    a=x//100\n",
    "    b=(x%100)//10\n",
    "    c=(x%100)%10\n",
    "    if x==a*a*a+b*b*b+c*c*c:\n",
    "        print(x)    \n",
    "    x=x+1\n",
    " \n",
    "    "
   ]
  },
  {
   "cell_type": "code",
   "execution_count": 1,
   "metadata": {},
   "outputs": [
    {
     "name": "stdout",
     "output_type": "stream",
     "text": [
      "猜猜我现在心里想的是那个数字：6\n",
      "小了，小了\n",
      "游戏结束\n"
     ]
    }
   ],
   "source": [
    "temp=input(\"猜猜我现在心里想的是那个数字：\")\n",
    "guess=int(temp)\n",
    "if guess == 8:\n",
    "   print(\"猜中了也没有奖励\")\n",
    "else:\n",
    "   if guess>=8:\n",
    "      print(\"大了，大了\")\n",
    "   else:\n",
    "      print(\"小了，小了\")\n",
    "print(\"游戏结束\")"
   ]
  },
  {
   "cell_type": "code",
   "execution_count": null,
   "metadata": {},
   "outputs": [],
   "source": []
  }
 ],
 "metadata": {
  "kernelspec": {
   "display_name": "Python 3",
   "language": "python",
   "name": "python3"
  },
  "language_info": {
   "codemirror_mode": {
    "name": "ipython",
    "version": 3
   },
   "file_extension": ".py",
   "mimetype": "text/x-python",
   "name": "python",
   "nbconvert_exporter": "python",
   "pygments_lexer": "ipython3",
   "version": "3.7.0"
  }
 },
 "nbformat": 4,
 "nbformat_minor": 2
}
